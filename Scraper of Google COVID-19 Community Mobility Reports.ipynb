{
 "cells": [
  {
   "cell_type": "markdown",
   "metadata": {},
   "source": [
    "### Import packages"
   ]
  },
  {
   "cell_type": "code",
   "execution_count": 50,
   "metadata": {},
   "outputs": [],
   "source": [
    "import pdfminer\n",
    "import io\n",
    "import os\n",
    "from collections import OrderedDict \n",
    "\n",
    "import requests\n",
    "import urllib.request\n",
    "import time\n",
    "from bs4 import BeautifulSoup\n",
    "\n",
    "from pdfminer.converter import TextConverter\n",
    "from pdfminer.pdfinterp import PDFPageInterpreter\n",
    "from pdfminer.pdfinterp import PDFResourceManager\n",
    "from pdfminer.pdfpage import PDFPage\n",
    "\n",
    "import pandas as pd"
   ]
  },
  {
   "cell_type": "markdown",
   "metadata": {},
   "source": [
    "### Download all new PDF files from site"
   ]
  },
  {
   "cell_type": "code",
   "execution_count": 51,
   "metadata": {},
   "outputs": [],
   "source": [
    "def download_covid_pdfs():\n",
    "    url = 'https://www.google.com/covid19/mobility/'\n",
    "    response = requests.get(url)\n",
    "\n",
    "    soup = BeautifulSoup(response.text, \"html.parser\")\n",
    "    soup.findAll('a', {\"class\": \"download-link\"})\n",
    "    new_files = False\n",
    "    \n",
    "    if not os.path.exists('data'):\n",
    "        os.makedirs('data')\n",
    "\n",
    "    for one_a_tag in soup.findAll('a', {\"class\": \"download-link\"}):\n",
    "        link = one_a_tag['href']\n",
    "        file_name = link[link.find('mobility')+len('mobility')+1:]\n",
    "        path = 'data/' + file_name\n",
    "        if not os.path.isfile(path):\n",
    "            new_files = True\n",
    "            urllib.request.urlretrieve(link, path)\n",
    "            print(file_name)\n",
    "            time.sleep(1)\n",
    "    if not new_files:\n",
    "        print('No updates')"
   ]
  },
  {
   "cell_type": "code",
   "execution_count": 52,
   "metadata": {},
   "outputs": [],
   "source": [
    "def extract_text_from_pdf(pdf_path):\n",
    "    resource_manager = PDFResourceManager()\n",
    "    fake_file_handle = io.StringIO()\n",
    "    converter = TextConverter(resource_manager, fake_file_handle)\n",
    "    page_interpreter = PDFPageInterpreter(resource_manager, converter)\n",
    " \n",
    "    with open(pdf_path, 'rb') as fh:\n",
    "        for page in PDFPage.get_pages(fh, \n",
    "                                      caching=True,\n",
    "                                      check_extractable=True):\n",
    "            page_interpreter.process_page(page)\n",
    " \n",
    "        text = fake_file_handle.getvalue()\n",
    "    # close open handles\n",
    "    converter.close()\n",
    "    fake_file_handle.close()\n",
    " \n",
    "    if text:\n",
    "        return text"
   ]
  },
  {
   "cell_type": "code",
   "execution_count": 53,
   "metadata": {},
   "outputs": [],
   "source": [
    "def parse_covid_report(text, regions=False, attributes=['Retail & recreation', 'Grocery & pharmacy',\n",
    "                                        'Parks', 'Transit stations',\n",
    "                                        'Workplaces', 'Residential']):\n",
    "    data = OrderedDict()\n",
    "    if not regions:\n",
    "        for i in range(len(attributes)):\n",
    "            index = text.find(attributes[i])+len(attributes[i])\n",
    "            if text[index]!=' ':\n",
    "                data[attributes[i]] = int(text[index:index+text[index:].find('%')])\n",
    "            else:\n",
    "                data[attributes[i]] = None\n",
    "    \n",
    "    else:\n",
    "        data['Region']=['Total']\n",
    "        for i in range(len(attributes)):\n",
    "            index = text.find(attributes[i])+len(attributes[i])\n",
    "            if text[index]!=' ':\n",
    "                data[attributes[i]] = data.get(attributes[i],[])+[int(text[index:index+text[index:].find('%')])]\n",
    "            else:\n",
    "                data[attributes[i]] = data.get(attributes[i],[]) + [None]\n",
    "        \n",
    "        \n",
    "        last_index = text.find(attributes[len(attributes)-1])\n",
    "        \n",
    "        while True:\n",
    "            if text[last_index+1:].find(attributes[0])<0:\n",
    "                break\n",
    "            reg_ind = 1\n",
    "            while True:\n",
    "                m = text[last_index+1:].find(attributes[0])\n",
    "                region = text[last_index+1+m-reg_ind:last_index+1+m]\n",
    "                \n",
    "                xoc = region.find('\\x0c')\n",
    "                baseline = region.find('baseline')\n",
    "                dat = region.find('date')\n",
    "                \n",
    "                if xoc>=0:\n",
    "                    region = region[xoc+1:]\n",
    "                    break\n",
    "                if baseline>=0:\n",
    "                    region = region[8:]\n",
    "                    break\n",
    "                if dat>=0:\n",
    "                    region = region[4:]\n",
    "                    break    \n",
    "                \n",
    "                reg_ind+=1\n",
    "            \n",
    "            data['Region'] += [region]\n",
    "            \n",
    "            text = text[last_index+text[last_index+1:].find(attributes[0]):]\n",
    "\n",
    "            for i in range(len(attributes)):\n",
    "                \n",
    "                # masterpiece trick\n",
    "                if attributes[i]!='Workplaces':\n",
    "                    index = text.find(attributes[i])+len(attributes[i])\n",
    "                else:\n",
    "                    index = text.find('Workplace')+len('Workplace')\n",
    "                \n",
    "                if text[index:index+2]!=' N':\n",
    "                    if text[index]!=' ':\n",
    "                        data[attributes[i]] += [int(text[index:index+text[index:].find('%')])]\n",
    "                    else:\n",
    "                        data[attributes[i]] += [int(text[index+1:index+text[index:].find('%')])]\n",
    "                else:\n",
    "                    data[attributes[i]] += [None]\n",
    "\n",
    "            last_index = text.find(attributes[len(attributes)-1])        \n",
    "    \n",
    "    return data"
   ]
  },
  {
   "cell_type": "code",
   "execution_count": 54,
   "metadata": {},
   "outputs": [],
   "source": [
    "def build_excel_covid_report_total(directory, format='excel'):\n",
    "    \n",
    "    data = OrderedDict() \n",
    "    \n",
    "    if os.path.isfile('codes.csv'):\n",
    "        codes = pd.read_csv('codes.csv', sep=';',index_col=0,keep_default_na=False)\n",
    "    else:\n",
    "        codes = None\n",
    "\n",
    "#     TODO/REDO    \n",
    "#     files_source = []\n",
    "#     if not os.path.isfile('report_source.txt'):\n",
    "#         open('report_source.txt', 'a').close()\n",
    "#     else:\n",
    "#         with open('report_source.txt') as f:\n",
    "#             files_source = [line.rstrip() for line in f]\n",
    "    \n",
    "    for filename in os.listdir(directory):\n",
    "        filename_list = filename.split('_')\n",
    "        if len(filename_list)==5: #and filename not in files_source:\n",
    "            text = extract_text_from_pdf(os.path.join(directory, filename))\n",
    "            if codes is not None:\n",
    "                country_name = codes.loc[filename_list[1],'Country'] if filename_list[1] in codes.index else filename_list[1]\n",
    "            else:\n",
    "                country_name = filename_list[1]\n",
    "            data['Country'] = data.get('Country',[]) + [country_name]\n",
    "            data['Date'] = data.get('Date',[]) + [filename_list[0]]\n",
    "            parsed = parse_covid_report(text)\n",
    "            for k,v in parsed.items():\n",
    "                data[k] = data.get(k,[]) + [v]   \n",
    "#             with open('report_source.txt', 'a') as file:\n",
    "#                 file.write(filename)\n",
    "    return data"
   ]
  },
  {
   "cell_type": "code",
   "execution_count": 57,
   "metadata": {},
   "outputs": [
    {
     "name": "stdout",
     "output_type": "stream",
     "text": [
      "No updates\n"
     ]
    }
   ],
   "source": [
    "download_covid_pdfs()"
   ]
  },
  {
   "cell_type": "code",
   "execution_count": null,
   "metadata": {},
   "outputs": [],
   "source": [
    "# build total world report\n",
    "total = pd.DataFrame(data = build_excel_covid_report_total('data'))\n",
    "total.to_excel('mobility_total_world.xlsx', sheet_name = 'Total data', index = False)"
   ]
  },
  {
   "cell_type": "code",
   "execution_count": 63,
   "metadata": {},
   "outputs": [],
   "source": [
    "def build_excel_covid_report_detailed(directory = 'data',destination ='mobility_report' ,\n",
    "                                      report_type = 'regions', file_format = 'excel', tabs = 'multiple'):\n",
    "    \"\"\"\n",
    "    data - path of downloaded pdfs\n",
    "    destination - destination file of report (without format)\n",
    "    report_type: 'regions', 'US_states'\n",
    "    format: 'excel', 'csv'\n",
    "    tabs: ''multiple', 'single'\n",
    "    \"\"\"\n",
    "    \n",
    "    if os.path.isfile('codes.csv'):\n",
    "        codes = pd.read_csv('codes.csv', sep=';',index_col=0,keep_default_na=False)\n",
    "    else:\n",
    "        codes = None\n",
    "\n",
    "#     TODO/REDO\n",
    "#     files_source = []\n",
    "#     if not os.path.isfile('report_source.txt'):\n",
    "#         open('report_source.txt', 'a').close()\n",
    "#     else:\n",
    "#         with open('report_source.txt') as f:\n",
    "#             files_source = [line.rstrip() for line in f]\n",
    "    \n",
    "    if report_type != 'regions' and report_type != 'US_states':\n",
    "        raise NameError(\"Wrong report_type. Available options: 'regions', 'US_states'\")\n",
    "    \n",
    "    all_data = OrderedDict()\n",
    "    reg_list=[]\n",
    "    for filename in os.listdir(directory):\n",
    "        filename_list = filename.split('_')\n",
    "            \n",
    "        if report_type == 'regions':\n",
    "            if len(filename_list)==5:\n",
    "                text = extract_text_from_pdf(os.path.join(directory, filename))\n",
    "                if codes is not None:\n",
    "                    country_name = codes.loc[filename_list[1],'Country'] if filename_list[1] in codes.index else filename_list[1]\n",
    "                else:\n",
    "                    country_name = filename_list[1]\n",
    "            else: continue\n",
    "                    \n",
    "        elif report_type == 'US_states':\n",
    "            if len(filename_list)>=6:\n",
    "                text = extract_text_from_pdf(os.path.join(directory, filename))\n",
    "                country_name = filename_list[2]\n",
    "                if len(filename_list)>=7: country_name+=' '+filename_list[3]\n",
    "                if len(filename_list)>=8: country_name+=' '+filename_list[4]\n",
    "            else: continue\n",
    "            \n",
    "        parsed = parse_covid_report(text, regions=True)\n",
    "        reg_name = 'Country' if report_type == 'regions' else 'State'\n",
    "        reg_list.append(country_name)\n",
    "        all_data['Date'] = all_data.get('Date',[]) + [filename_list[0] for i in range(len(parsed['Region']))]\n",
    "        all_data[reg_name] = all_data.get(reg_name,[])+ [country_name for i in range(len(parsed['Region']))]\n",
    "        for k,v in parsed.items():\n",
    "            all_data[k] = all_data.get(k,[]) + v\n",
    "    \n",
    "    df = pd.DataFrame(data=all_data)\n",
    "    if file_format == 'excel':\n",
    "        if tabs == 'single':\n",
    "            writer = pd.ExcelWriter(destination + '.xlsx', engine = 'xlsxwriter')\n",
    "            df.to_excel(writer,sheet_name='Regions', index=False)\n",
    "            writer.save()\n",
    "            writer.close()\n",
    "        else:\n",
    "            writer = pd.ExcelWriter(destination + '.xlsx', engine = 'xlsxwriter')\n",
    "            for r in reg_list:\n",
    "                df_reg = df.loc[df[reg_name] == r]\n",
    "                df_reg = df_reg.drop(reg_name,1)\n",
    "                df_reg.to_excel(writer,sheet_name=r, index=False)\n",
    "            writer.save()\n",
    "            writer.close()\n",
    "    else:\n",
    "        df.to_csv(destination + '.csv', index = False)"
   ]
  },
  {
   "cell_type": "code",
   "execution_count": 66,
   "metadata": {},
   "outputs": [],
   "source": [
    "build_excel_covid_report_detailed(directory = 'data', destination = 'mobility_regions_multiple', \n",
    "                                  report_type = 'regions', file_format = 'excel', tabs = 'multiple')"
   ]
  },
  {
   "cell_type": "code",
   "execution_count": 67,
   "metadata": {},
   "outputs": [],
   "source": [
    "build_excel_covid_report_detailed(directory = 'data', destination = 'mobility_regions_single',\n",
    "                                  report_type = 'regions', file_format = 'excel', tabs = 'single')"
   ]
  },
  {
   "cell_type": "code",
   "execution_count": 70,
   "metadata": {},
   "outputs": [],
   "source": [
    "build_excel_covid_report_detailed(directory = 'data', destination = 'mobility_US_states_multiple',\n",
    "                                  report_type = 'US_states', file_format = 'excel', tabs = 'multiple')"
   ]
  },
  {
   "cell_type": "code",
   "execution_count": 71,
   "metadata": {},
   "outputs": [],
   "source": [
    "build_excel_covid_report_detailed(directory = 'data', destination = 'mobility_US_states_single',\n",
    "                                  report_type = 'US_states', file_format = 'excel', tabs = 'single')"
   ]
  },
  {
   "cell_type": "code",
   "execution_count": 72,
   "metadata": {},
   "outputs": [],
   "source": [
    "build_excel_covid_report_detailed(directory = 'data', destination = 'mobility_regions',\n",
    "                                  report_type = 'regions', file_format = 'csv')"
   ]
  },
  {
   "cell_type": "code",
   "execution_count": 73,
   "metadata": {},
   "outputs": [],
   "source": [
    "build_excel_covid_report_detailed(directory = 'data', destination = 'mobility_US_states',\n",
    "                                  report_type = 'US_states', file_format = 'csv')"
   ]
  },
  {
   "cell_type": "code",
   "execution_count": null,
   "metadata": {},
   "outputs": [],
   "source": []
  }
 ],
 "metadata": {
  "kernelspec": {
   "display_name": "Python 3",
   "language": "python",
   "name": "python3"
  },
  "language_info": {
   "codemirror_mode": {
    "name": "ipython",
    "version": 3
   },
   "file_extension": ".py",
   "mimetype": "text/x-python",
   "name": "python",
   "nbconvert_exporter": "python",
   "pygments_lexer": "ipython3",
   "version": "3.6.4"
  }
 },
 "nbformat": 4,
 "nbformat_minor": 2
}
